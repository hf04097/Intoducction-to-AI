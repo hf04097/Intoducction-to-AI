{
 "cells": [
  {
   "cell_type": "code",
   "execution_count": 29,
   "metadata": {},
   "outputs": [],
   "source": [
    "import csv\n",
    "import pandas as pd\n",
    "from sklearn.feature_extraction.text import CountVectorizer\n",
    "from sklearn.feature_extraction.text import TfidfTransformer\n",
    "from sklearn.model_selection import train_test_split\n",
    "from sklearn.naive_bayes import GaussianNB\n",
    "from sklearn.metrics import accuracy_score\n",
    "from sklearn import tree\n",
    "from sklearn.datasets import make_classification\n",
    "from sklearn.ensemble import RandomForestClassifier\n",
    "from sklearn.ensemble import AdaBoostClassifier\n"
   ]
  },
  {
   "cell_type": "code",
   "execution_count": 18,
   "metadata": {},
   "outputs": [],
   "source": [
    "def load_file(fileName):\n",
    "    dataset = pd.read_table(fileName, header=0, sep=\",\", encoding=\"unicode_escape\")\n",
    "    \n",
    "    return dataset"
   ]
  },
  {
   "cell_type": "code",
   "execution_count": 19,
   "metadata": {},
   "outputs": [],
   "source": [
    "# preprocess creates the term frequency matrix for the review data set\n",
    "def preprocess(test,train):\n",
    "    list_of_feature = [\"label\"]\n",
    "    \n",
    "    for i in range(1,test.shape[1]):\n",
    "        list_of_feature.append(\"pixel\" + str(i))\n",
    "    trainingY, trainingX = train[list_of_feature[0]], train[list_of_feature[1:]]\n",
    "    testY, testX = test[list_of_feature[0]], test[list_of_feature[1:]]\n",
    "    \n",
    "    return trainingX,trainingY,testX,testY"
   ]
  },
  {
   "cell_type": "code",
   "execution_count": 38,
   "metadata": {},
   "outputs": [],
   "source": [
    "def learn_model(data,target):\n",
    "  \n",
    "    classifier = []\n",
    "    #naive bayes\n",
    "    gnb = GaussianNB()\n",
    "    classifier.append(gnb.fit(data, target))\n",
    "    \n",
    "    #decision tree\n",
    "    des_tree = tree.DecisionTreeClassifier()\n",
    "    classifier.append(des_tree.fit(data, target))\n",
    "    \n",
    "    #Random Forest Classifier\n",
    "    rfc = RandomForestClassifier(n_estimators=100)\n",
    "    classifier.append(rfc.fit(data,target))\n",
    "    \n",
    "    #AdaBoost classifier\n",
    "    abc =AdaBoostClassifier(n_estimators=100)\n",
    "    classifier.append(abc.fit(data, target))\n",
    "    \n",
    "    return classifier"
   ]
  },
  {
   "cell_type": "code",
   "execution_count": 22,
   "metadata": {},
   "outputs": [],
   "source": [
    "def classify(classifier, testdata):\n",
    "    \n",
    "    predicted_val =[]\n",
    "    for i in classifier:\n",
    "        predicted_val.append(i.predict(testdata))\n",
    "    \n",
    "    return predicted_val\n"
   ]
  },
  {
   "cell_type": "code",
   "execution_count": 42,
   "metadata": {},
   "outputs": [],
   "source": [
    "def evaluate(actual_class, predicted_class):\n",
    "        \n",
    "    accuracy = []   \n",
    "    for i in predicted_class:\n",
    "        accuracy.append(accuracy_score(actual_class, i))\n",
    "    \n",
    "    print(\"The accuracy score of naive bayes is :\",accuracy[0])\n",
    "    print(\"The accuracy score of decision tree is :\",accuracy[1])\n",
    "    print(\"The accuracy score of Random Forest Classifier is :\",accuracy[2])\n",
    "    print(\"The accuracy score of AdaBoost classifier is :\",accuracy[3])"
   ]
  },
  {
   "cell_type": "code",
   "execution_count": 33,
   "metadata": {},
   "outputs": [
    {
     "name": "stdout",
     "output_type": "stream",
     "text": [
      "Loading data.....\n"
     ]
    }
   ],
   "source": [
    "print(\"Loading data.....\")\n",
    "train = load_file(\"fashion-mnist_train.csv\")\n",
    "test = load_file(\"fashion-mnist_test.csv\")\n"
   ]
  },
  {
   "cell_type": "code",
   "execution_count": 34,
   "metadata": {},
   "outputs": [
    {
     "name": "stdout",
     "output_type": "stream",
     "text": [
      "preprocessing data.....\n"
     ]
    }
   ],
   "source": [
    "print(\"preprocessing data.....\")\n",
    "trainingX,trainingY,testX,testY = preprocess(test,train)"
   ]
  },
  {
   "cell_type": "code",
   "execution_count": 39,
   "metadata": {},
   "outputs": [
    {
     "name": "stdout",
     "output_type": "stream",
     "text": [
      "Learning model.....\n"
     ]
    }
   ],
   "source": [
    "print(\"Learning model.....\")\n",
    "model = learn_model(trainingX,trainingY)"
   ]
  },
  {
   "cell_type": "code",
   "execution_count": 40,
   "metadata": {},
   "outputs": [
    {
     "name": "stdout",
     "output_type": "stream",
     "text": [
      "Classifying test data......\n"
     ]
    }
   ],
   "source": [
    "print(\"Classifying test data......\")      \n",
    "predictedY = classify(model, testX)"
   ]
  },
  {
   "cell_type": "code",
   "execution_count": 43,
   "metadata": {},
   "outputs": [
    {
     "name": "stdout",
     "output_type": "stream",
     "text": [
      "Evaluating results.....\n",
      "The accuracy score of naive bayes is : 0.5914\n",
      "The accuracy score of decision tree is : 0.7961\n",
      "The accuracy score of Random Forest Classifier is : 0.885\n",
      "The accuracy score of AdaBoost classifier is : 0.5806\n"
     ]
    }
   ],
   "source": [
    "print(\"Evaluating results.....\")\n",
    "evaluate(testY,predictedY)"
   ]
  },
  {
   "cell_type": "code",
   "execution_count": null,
   "metadata": {},
   "outputs": [],
   "source": []
  },
  {
   "cell_type": "code",
   "execution_count": null,
   "metadata": {},
   "outputs": [],
   "source": []
  }
 ],
 "metadata": {
  "kernelspec": {
   "display_name": "Python 3",
   "language": "python",
   "name": "python3"
  },
  "language_info": {
   "codemirror_mode": {
    "name": "ipython",
    "version": 3
   },
   "file_extension": ".py",
   "mimetype": "text/x-python",
   "name": "python",
   "nbconvert_exporter": "python",
   "pygments_lexer": "ipython3",
   "version": "3.7.4"
  }
 },
 "nbformat": 4,
 "nbformat_minor": 2
}
