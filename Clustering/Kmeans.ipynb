{
 "cells": [
  {
   "cell_type": "code",
   "execution_count": null,
   "metadata": {},
   "outputs": [],
   "source": [
    "import random\n",
    "import numpy as np\n",
    "from scipy.spatial import distance\n",
    "import copy\n",
    "import matplotlib.pyplot as plt\n",
    "import itertools"
   ]
  },
  {
   "cell_type": "code",
   "execution_count": null,
   "metadata": {},
   "outputs": [],
   "source": [
    "points=[]\n",
    "def initializePoints(count):\n",
    "     for i in range(int(count/3)):\n",
    "         points.append([random.gauss(0,10),random.gauss(100,10)])\n",
    "     for i in range(int(count/3)):\n",
    "         points.append([random.gauss(-30,20),random.gauss(10,10)])\n",
    "     for i in range(int(count/3)):\n",
    "         points.append([random.gauss(30,20),random.gauss(10,10)])\n",
    "     return points\n"
   ]
  },
  {
   "cell_type": "code",
   "execution_count": null,
   "metadata": {},
   "outputs": [],
   "source": [
    "def cluster(points,K,visuals):\n",
    "    clusters=[]\n",
    "    center =[]\n",
    "    points_x =[]\n",
    "    points_y =[]\n",
    "    colors = [\"r\",\"g\",\"b\",\"plum\",\"c\",\"y\",\"gold\",\"black\", \"m\", \"olive\"]\n",
    "    color_to_use =[]\n",
    "\n",
    "    for i in range(len(points)):\n",
    "        points_x.append(points[i][0])\n",
    "        points_y.append(points[i][1])\n",
    "    \n",
    "    \n",
    "    for i in range(2*K):\n",
    "        clusters.append([])\n",
    "        \n",
    "    for i in range(K):\n",
    "        center.append([random.randint(int(min(points_x)),int(max(points_x))),random.randint(int(min(points_y)),int(max(points_y)))])\n",
    "    \n",
    "    iter = 1\n",
    "    while(True):\n",
    "        prev_center = copy.deepcopy(center)\n",
    "        for i in range(len(points)):\n",
    "            ecud_dist =[]\n",
    "            for j in range(len(center)):\n",
    "                ecud_dist.append(np.linalg.norm(np.asarray(points[i])-np.asarray(center[j])))\n",
    "            clusters[(ecud_dist.index(min(ecud_dist)))*2].append(points[i][0])\n",
    "            clusters[((ecud_dist.index(min(ecud_dist)))*2)+1].append(points[i][1])\n",
    "            \n",
    "        for i in range(0,(len(clusters)),2):\n",
    "            if (len(clusters[i])) == 0:\n",
    "                center[i//2][0] == 0\n",
    "            else:\n",
    "                center[i//2][0]= (sum(clusters[i]))/(len(clusters[i]))\n",
    "            if (len(clusters[i+1])) == 0:\n",
    "                center[i//2][1]\n",
    "            else:\n",
    "                center[i//2][1]= (sum(clusters[i+1]))/(len(clusters[i+1]))\n",
    "                            \n",
    "        true_list =[]\n",
    "        difference_btw_center = 0.5\n",
    "        for i in range(len(center)):\n",
    "            if (np.linalg.norm(np.asarray(prev_center[i])-np.asarray(center[i]))) < difference_btw_center:\n",
    "                true_list.append(1)\n",
    "                \n",
    "        if(visuals):\n",
    "            for i in range(0,len(clusters),2):\n",
    "                plt.scatter(clusters[i], clusters[i+1], color=colors[i], label = \"cluster \"+str(i//2))\n",
    "            np_center = np.array(center)\n",
    "            plt.scatter(np_center[:,0], np_center[:,1], color=colors[-1],label='centeroids')\n",
    "            plt.legend()\n",
    "            plt.figtext(0.5, 0.01, \"iteration \" + str(iter), wrap=True, horizontalalignment='center', fontsize=12)\n",
    "            plt.show()\n",
    "            \n",
    "        if(len(true_list)==K):\n",
    "            break\n",
    "        \n",
    "        clusters =[]\n",
    "        for i in range(2*K):\n",
    "            clusters.append([])\n",
    "        \n",
    "        iter+=1\n",
    "        \n",
    "    return clusters"
   ]
  },
  {
   "cell_type": "code",
   "execution_count": null,
   "metadata": {},
   "outputs": [],
   "source": [
    "def clusterQuality(clusters):\n",
    "    score = 0\n",
    "    center = []\n",
    "    for i in range((len(clusters))//2):\n",
    "        center.append([0,0])\n",
    "    for i in range(0,(len(clusters)),2):\n",
    "        if (len(clusters[i])) == 0:\n",
    "                center[i//2][0] == 0\n",
    "        else:\n",
    "            center[i//2][0]= (sum(clusters[i]))/(len(clusters[i]))\n",
    "        if (len(clusters[i+1])) == 0:\n",
    "            center[i//2][1]\n",
    "        else:\n",
    "            center[i//2][1]= (sum(clusters[i+1]))/(len(clusters[i+1]))\n",
    "\n",
    "    for i in range(0,(len(clusters)),2):\n",
    "        for j in range(len(clusters[i])):\n",
    "            score+=((np.linalg.norm(np.asarray([clusters[i][j],clusters[i+1][j]])-np.asarray(center[i//2])))**2)\n",
    "        \n",
    "    \n",
    "    return score"
   ]
  },
  {
   "cell_type": "code",
   "execution_count": null,
   "metadata": {},
   "outputs": [],
   "source": [
    "def keepClustering(points,K,N,visuals):\n",
    "    list_of_clusters = []\n",
    "    score_list =[]\n",
    "    count = 1\n",
    "    \n",
    "    print(\"Ran for the \"+str(count) + \"th time\")\n",
    "    while(count != N):\n",
    "        list_of_clusters.append(cluster(points,K,visuals))\n",
    "        count+=1\n",
    "        print(\"Ran for the \"+str(count) + \"th time\")\n",
    "        \n",
    "    for i in list_of_clusters:\n",
    "        score_list.append(clusterQuality(i))\n",
    "    \n",
    "    return list_of_clusters[score_list.index(min(score_list))]\n",
    "    "
   ]
  },
  {
   "cell_type": "code",
   "execution_count": null,
   "metadata": {},
   "outputs": [],
   "source": [
    "K = 3\n",
    "N = 10\n",
    "points = initializePoints(1000)\n",
    "clusters = cluster(points,K,visuals = True)\n",
    "clusters = keepClustering(points,K,N,True)\n",
    "\n",
    "print (\"The score of best Kmeans clustering is:\", clusterQuality(clusters))\n"
   ]
  },
  {
   "cell_type": "code",
   "execution_count": null,
   "metadata": {},
   "outputs": [],
   "source": [
    "clusterQuality(clusters)"
   ]
  },
  {
   "cell_type": "code",
   "execution_count": null,
   "metadata": {
    "scrolled": true
   },
   "outputs": [],
   "source": [
    "text = \"itertion\",0\n",
    "print(text)"
   ]
  },
  {
   "cell_type": "code",
   "execution_count": null,
   "metadata": {},
   "outputs": [],
   "source": []
  },
  {
   "cell_type": "code",
   "execution_count": null,
   "metadata": {},
   "outputs": [],
   "source": []
  }
 ],
 "metadata": {
  "kernelspec": {
   "display_name": "Python 3",
   "language": "python",
   "name": "python3"
  },
  "language_info": {
   "codemirror_mode": {
    "name": "ipython",
    "version": 3
   },
   "file_extension": ".py",
   "mimetype": "text/x-python",
   "name": "python",
   "nbconvert_exporter": "python",
   "pygments_lexer": "ipython3",
   "version": "3.7.4"
  }
 },
 "nbformat": 4,
 "nbformat_minor": 4
}
